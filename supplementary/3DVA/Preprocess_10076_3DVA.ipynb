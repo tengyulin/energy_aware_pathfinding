{
  "cells": [
    {
      "cell_type": "markdown",
      "metadata": {
        "id": "A9Cs1uisoTlA"
      },
      "source": [
        "## Set up"
      ]
    },
    {
      "cell_type": "code",
      "execution_count": 1,
      "metadata": {
        "colab": {
          "base_uri": "https://localhost:8080/",
          "height": 1000
        },
        "id": "asRPGkiYoWoZ",
        "outputId": "d024a137-7e9d-403d-98de-f08a5f0b3331"
      },
      "outputs": [
        {
          "name": "stdout",
          "output_type": "stream",
          "text": [
            "Collecting cryodrgn\n",
            "  Downloading cryodrgn-2.3.0-py3-none-any.whl (1.1 MB)\n",
            "\u001b[2K     \u001b[90m━━━━━━━━━━━━━━━━━━━━━━━━━━━━━━━━━━━━━━━━\u001b[0m \u001b[32m1.1/1.1 MB\u001b[0m \u001b[31m6.8 MB/s\u001b[0m eta \u001b[36m0:00:00\u001b[0m\n",
            "\u001b[?25hRequirement already satisfied: torch>=1.0.0 in /usr/local/lib/python3.10/dist-packages (from cryodrgn) (2.1.0+cu121)\n",
            "Requirement already satisfied: pandas<2 in /usr/local/lib/python3.10/dist-packages (from cryodrgn) (1.5.3)\n",
            "Requirement already satisfied: numpy in /usr/local/lib/python3.10/dist-packages (from cryodrgn) (1.25.2)\n",
            "Requirement already satisfied: matplotlib in /usr/local/lib/python3.10/dist-packages (from cryodrgn) (3.7.1)\n",
            "Requirement already satisfied: pyyaml in /usr/local/lib/python3.10/dist-packages (from cryodrgn) (6.0.1)\n",
            "Requirement already satisfied: scipy>=1.3.1 in /usr/local/lib/python3.10/dist-packages (from cryodrgn) (1.11.4)\n",
            "Requirement already satisfied: scikit-learn in /usr/local/lib/python3.10/dist-packages (from cryodrgn) (1.2.2)\n",
            "Collecting seaborn<0.12 (from cryodrgn)\n",
            "  Downloading seaborn-0.11.2-py3-none-any.whl (292 kB)\n",
            "\u001b[2K     \u001b[90m━━━━━━━━━━━━━━━━━━━━━━━━━━━━━━━━━━━━━━━━\u001b[0m \u001b[32m292.8/292.8 kB\u001b[0m \u001b[31m16.9 MB/s\u001b[0m eta \u001b[36m0:00:00\u001b[0m\n",
            "\u001b[?25hRequirement already satisfied: cufflinks in /usr/local/lib/python3.10/dist-packages (from cryodrgn) (0.17.3)\n",
            "Collecting jupyterlab (from cryodrgn)\n",
            "  Downloading jupyterlab-4.1.4-py3-none-any.whl (11.4 MB)\n",
            "\u001b[2K     \u001b[90m━━━━━━━━━━━━━━━━━━━━━━━━━━━━━━━━━━━━━━━━\u001b[0m \u001b[32m11.4/11.4 MB\u001b[0m \u001b[31m55.6 MB/s\u001b[0m eta \u001b[36m0:00:00\u001b[0m\n",
            "\u001b[?25hCollecting umap-learn (from cryodrgn)\n",
            "  Downloading umap-learn-0.5.5.tar.gz (90 kB)\n",
            "\u001b[2K     \u001b[90m━━━━━━━━━━━━━━━━━━━━━━━━━━━━━━━━━━━━━━━━\u001b[0m \u001b[32m90.9/90.9 kB\u001b[0m \u001b[31m14.0 MB/s\u001b[0m eta \u001b[36m0:00:00\u001b[0m\n",
            "\u001b[?25h  Preparing metadata (setup.py) ... \u001b[?25l\u001b[?25hdone\n",
            "Requirement already satisfied: ipywidgets<8 in /usr/local/lib/python3.10/dist-packages (from cryodrgn) (7.7.1)\n",
            "Collecting healpy (from cryodrgn)\n",
            "  Downloading healpy-1.16.6-cp310-cp310-manylinux_2_17_x86_64.manylinux2014_x86_64.whl (24.5 MB)\n",
            "\u001b[2K     \u001b[90m━━━━━━━━━━━━━━━━━━━━━━━━━━━━━━━━━━━━━━━━\u001b[0m \u001b[32m24.5/24.5 MB\u001b[0m \u001b[31m32.5 MB/s\u001b[0m eta \u001b[36m0:00:00\u001b[0m\n",
            "\u001b[?25hRequirement already satisfied: ipykernel>=4.5.1 in /usr/local/lib/python3.10/dist-packages (from ipywidgets<8->cryodrgn) (5.5.6)\n",
            "Requirement already satisfied: ipython-genutils~=0.2.0 in /usr/local/lib/python3.10/dist-packages (from ipywidgets<8->cryodrgn) (0.2.0)\n",
            "Requirement already satisfied: traitlets>=4.3.1 in /usr/local/lib/python3.10/dist-packages (from ipywidgets<8->cryodrgn) (5.7.1)\n",
            "Requirement already satisfied: widgetsnbextension~=3.6.0 in /usr/local/lib/python3.10/dist-packages (from ipywidgets<8->cryodrgn) (3.6.6)\n",
            "Requirement already satisfied: ipython>=4.0.0 in /usr/local/lib/python3.10/dist-packages (from ipywidgets<8->cryodrgn) (7.34.0)\n",
            "Requirement already satisfied: jupyterlab-widgets>=1.0.0 in /usr/local/lib/python3.10/dist-packages (from ipywidgets<8->cryodrgn) (3.0.10)\n",
            "Requirement already satisfied: python-dateutil>=2.8.1 in /usr/local/lib/python3.10/dist-packages (from pandas<2->cryodrgn) (2.8.2)\n",
            "Requirement already satisfied: pytz>=2020.1 in /usr/local/lib/python3.10/dist-packages (from pandas<2->cryodrgn) (2023.4)\n",
            "Requirement already satisfied: contourpy>=1.0.1 in /usr/local/lib/python3.10/dist-packages (from matplotlib->cryodrgn) (1.2.0)\n",
            "Requirement already satisfied: cycler>=0.10 in /usr/local/lib/python3.10/dist-packages (from matplotlib->cryodrgn) (0.12.1)\n",
            "Requirement already satisfied: fonttools>=4.22.0 in /usr/local/lib/python3.10/dist-packages (from matplotlib->cryodrgn) (4.49.0)\n",
            "Requirement already satisfied: kiwisolver>=1.0.1 in /usr/local/lib/python3.10/dist-packages (from matplotlib->cryodrgn) (1.4.5)\n",
            "Requirement already satisfied: packaging>=20.0 in /usr/local/lib/python3.10/dist-packages (from matplotlib->cryodrgn) (23.2)\n",
            "Requirement already satisfied: pillow>=6.2.0 in /usr/local/lib/python3.10/dist-packages (from matplotlib->cryodrgn) (9.4.0)\n",
            "Requirement already satisfied: pyparsing>=2.3.1 in /usr/local/lib/python3.10/dist-packages (from matplotlib->cryodrgn) (3.1.1)\n",
            "Requirement already satisfied: filelock in /usr/local/lib/python3.10/dist-packages (from torch>=1.0.0->cryodrgn) (3.13.1)\n",
            "Requirement already satisfied: typing-extensions in /usr/local/lib/python3.10/dist-packages (from torch>=1.0.0->cryodrgn) (4.10.0)\n",
            "Requirement already satisfied: sympy in /usr/local/lib/python3.10/dist-packages (from torch>=1.0.0->cryodrgn) (1.12)\n",
            "Requirement already satisfied: networkx in /usr/local/lib/python3.10/dist-packages (from torch>=1.0.0->cryodrgn) (3.2.1)\n",
            "Requirement already satisfied: jinja2 in /usr/local/lib/python3.10/dist-packages (from torch>=1.0.0->cryodrgn) (3.1.3)\n",
            "Requirement already satisfied: fsspec in /usr/local/lib/python3.10/dist-packages (from torch>=1.0.0->cryodrgn) (2023.6.0)\n",
            "Requirement already satisfied: triton==2.1.0 in /usr/local/lib/python3.10/dist-packages (from torch>=1.0.0->cryodrgn) (2.1.0)\n",
            "Requirement already satisfied: plotly>=4.1.1 in /usr/local/lib/python3.10/dist-packages (from cufflinks->cryodrgn) (5.15.0)\n",
            "Requirement already satisfied: six>=1.9.0 in /usr/local/lib/python3.10/dist-packages (from cufflinks->cryodrgn) (1.16.0)\n",
            "Requirement already satisfied: colorlover>=0.2.1 in /usr/local/lib/python3.10/dist-packages (from cufflinks->cryodrgn) (0.3.0)\n",
            "Requirement already satisfied: setuptools>=34.4.1 in /usr/local/lib/python3.10/dist-packages (from cufflinks->cryodrgn) (67.7.2)\n",
            "Requirement already satisfied: astropy in /usr/local/lib/python3.10/dist-packages (from healpy->cryodrgn) (5.3.4)\n",
            "Collecting async-lru>=1.0.0 (from jupyterlab->cryodrgn)\n",
            "  Downloading async_lru-2.0.4-py3-none-any.whl (6.1 kB)\n",
            "Collecting httpx>=0.25.0 (from jupyterlab->cryodrgn)\n",
            "  Downloading httpx-0.27.0-py3-none-any.whl (75 kB)\n",
            "\u001b[2K     \u001b[90m━━━━━━━━━━━━━━━━━━━━━━━━━━━━━━━━━━━━━━━━\u001b[0m \u001b[32m75.6/75.6 kB\u001b[0m \u001b[31m12.0 MB/s\u001b[0m eta \u001b[36m0:00:00\u001b[0m\n",
            "\u001b[?25hRequirement already satisfied: jupyter-core in /usr/local/lib/python3.10/dist-packages (from jupyterlab->cryodrgn) (5.7.1)\n",
            "Collecting jupyter-lsp>=2.0.0 (from jupyterlab->cryodrgn)\n",
            "  Downloading jupyter_lsp-2.2.4-py3-none-any.whl (69 kB)\n",
            "\u001b[2K     \u001b[90m━━━━━━━━━━━━━━━━━━━━━━━━━━━━━━━━━━━━━━━━\u001b[0m \u001b[32m69.1/69.1 kB\u001b[0m \u001b[31m10.3 MB/s\u001b[0m eta \u001b[36m0:00:00\u001b[0m\n",
            "\u001b[?25hCollecting jupyter-server<3,>=2.4.0 (from jupyterlab->cryodrgn)\n",
            "  Downloading jupyter_server-2.13.0-py3-none-any.whl (383 kB)\n",
            "\u001b[2K     \u001b[90m━━━━━━━━━━━━━━━━━━━━━━━━━━━━━━━━━━━━━━━━\u001b[0m \u001b[32m383.2/383.2 kB\u001b[0m \u001b[31m42.3 MB/s\u001b[0m eta \u001b[36m0:00:00\u001b[0m\n",
            "\u001b[?25hCollecting jupyterlab-server<3,>=2.19.0 (from jupyterlab->cryodrgn)\n",
            "  Downloading jupyterlab_server-2.25.3-py3-none-any.whl (58 kB)\n",
            "\u001b[2K     \u001b[90m━━━━━━━━━━━━━━━━━━━━━━━━━━━━━━━━━━━━━━━━\u001b[0m \u001b[32m59.0/59.0 kB\u001b[0m \u001b[31m9.5 MB/s\u001b[0m eta \u001b[36m0:00:00\u001b[0m\n",
            "\u001b[?25hRequirement already satisfied: notebook-shim>=0.2 in /usr/local/lib/python3.10/dist-packages (from jupyterlab->cryodrgn) (0.2.4)\n",
            "Requirement already satisfied: tomli in /usr/local/lib/python3.10/dist-packages (from jupyterlab->cryodrgn) (2.0.1)\n",
            "Requirement already satisfied: tornado>=6.2.0 in /usr/local/lib/python3.10/dist-packages (from jupyterlab->cryodrgn) (6.3.3)\n",
            "Requirement already satisfied: joblib>=1.1.1 in /usr/local/lib/python3.10/dist-packages (from scikit-learn->cryodrgn) (1.3.2)\n",
            "Requirement already satisfied: threadpoolctl>=2.0.0 in /usr/local/lib/python3.10/dist-packages (from scikit-learn->cryodrgn) (3.3.0)\n",
            "Requirement already satisfied: numba>=0.51.2 in /usr/local/lib/python3.10/dist-packages (from umap-learn->cryodrgn) (0.58.1)\n",
            "Collecting pynndescent>=0.5 (from umap-learn->cryodrgn)\n",
            "  Downloading pynndescent-0.5.11-py3-none-any.whl (55 kB)\n",
            "\u001b[2K     \u001b[90m━━━━━━━━━━━━━━━━━━━━━━━━━━━━━━━━━━━━━━━━\u001b[0m \u001b[32m55.8/55.8 kB\u001b[0m \u001b[31m8.8 MB/s\u001b[0m eta \u001b[36m0:00:00\u001b[0m\n",
            "\u001b[?25hRequirement already satisfied: tqdm in /usr/local/lib/python3.10/dist-packages (from umap-learn->cryodrgn) (4.66.2)\n",
            "Requirement already satisfied: anyio in /usr/local/lib/python3.10/dist-packages (from httpx>=0.25.0->jupyterlab->cryodrgn) (3.7.1)\n",
            "Requirement already satisfied: certifi in /usr/local/lib/python3.10/dist-packages (from httpx>=0.25.0->jupyterlab->cryodrgn) (2024.2.2)\n",
            "Collecting httpcore==1.* (from httpx>=0.25.0->jupyterlab->cryodrgn)\n",
            "  Downloading httpcore-1.0.4-py3-none-any.whl (77 kB)\n",
            "\u001b[2K     \u001b[90m━━━━━━━━━━━━━━━━━━━━━━━━━━━━━━━━━━━━━━━━\u001b[0m \u001b[32m77.8/77.8 kB\u001b[0m \u001b[31m12.2 MB/s\u001b[0m eta \u001b[36m0:00:00\u001b[0m\n",
            "\u001b[?25hRequirement already satisfied: idna in /usr/local/lib/python3.10/dist-packages (from httpx>=0.25.0->jupyterlab->cryodrgn) (3.6)\n",
            "Requirement already satisfied: sniffio in /usr/local/lib/python3.10/dist-packages (from httpx>=0.25.0->jupyterlab->cryodrgn) (1.3.1)\n",
            "Collecting h11<0.15,>=0.13 (from httpcore==1.*->httpx>=0.25.0->jupyterlab->cryodrgn)\n",
            "  Downloading h11-0.14.0-py3-none-any.whl (58 kB)\n",
            "\u001b[2K     \u001b[90m━━━━━━━━━━━━━━━━━━━━━━━━━━━━━━━━━━━━━━━━\u001b[0m \u001b[32m58.3/58.3 kB\u001b[0m \u001b[31m6.1 MB/s\u001b[0m eta \u001b[36m0:00:00\u001b[0m\n",
            "\u001b[?25hRequirement already satisfied: jupyter-client in /usr/local/lib/python3.10/dist-packages (from ipykernel>=4.5.1->ipywidgets<8->cryodrgn) (6.1.12)\n",
            "Collecting jedi>=0.16 (from ipython>=4.0.0->ipywidgets<8->cryodrgn)\n",
            "  Downloading jedi-0.19.1-py2.py3-none-any.whl (1.6 MB)\n",
            "\u001b[2K     \u001b[90m━━━━━━━━━━━━━━━━━━━━━━━━━━━━━━━━━━━━━━━━\u001b[0m \u001b[32m1.6/1.6 MB\u001b[0m \u001b[31m66.6 MB/s\u001b[0m eta \u001b[36m0:00:00\u001b[0m\n",
            "\u001b[?25hRequirement already satisfied: decorator in /usr/local/lib/python3.10/dist-packages (from ipython>=4.0.0->ipywidgets<8->cryodrgn) (4.4.2)\n",
            "Requirement already satisfied: pickleshare in /usr/local/lib/python3.10/dist-packages (from ipython>=4.0.0->ipywidgets<8->cryodrgn) (0.7.5)\n",
            "Requirement already satisfied: prompt-toolkit!=3.0.0,!=3.0.1,<3.1.0,>=2.0.0 in /usr/local/lib/python3.10/dist-packages (from ipython>=4.0.0->ipywidgets<8->cryodrgn) (3.0.43)\n",
            "Requirement already satisfied: pygments in /usr/local/lib/python3.10/dist-packages (from ipython>=4.0.0->ipywidgets<8->cryodrgn) (2.16.1)\n",
            "Requirement already satisfied: backcall in /usr/local/lib/python3.10/dist-packages (from ipython>=4.0.0->ipywidgets<8->cryodrgn) (0.2.0)\n",
            "Requirement already satisfied: matplotlib-inline in /usr/local/lib/python3.10/dist-packages (from ipython>=4.0.0->ipywidgets<8->cryodrgn) (0.1.6)\n",
            "Requirement already satisfied: pexpect>4.3 in /usr/local/lib/python3.10/dist-packages (from ipython>=4.0.0->ipywidgets<8->cryodrgn) (4.9.0)\n",
            "Requirement already satisfied: MarkupSafe>=2.0 in /usr/local/lib/python3.10/dist-packages (from jinja2->torch>=1.0.0->cryodrgn) (2.1.5)\n",
            "Requirement already satisfied: argon2-cffi in /usr/local/lib/python3.10/dist-packages (from jupyter-server<3,>=2.4.0->jupyterlab->cryodrgn) (23.1.0)\n",
            "Collecting jupyter-client (from ipykernel>=4.5.1->ipywidgets<8->cryodrgn)\n",
            "  Downloading jupyter_client-8.6.0-py3-none-any.whl (105 kB)\n",
            "\u001b[2K     \u001b[90m━━━━━━━━━━━━━━━━━━━━━━━━━━━━━━━━━━━━━━━━\u001b[0m \u001b[32m105.9/105.9 kB\u001b[0m \u001b[31m15.1 MB/s\u001b[0m eta \u001b[36m0:00:00\u001b[0m\n",
            "\u001b[?25hCollecting jupyter-events>=0.9.0 (from jupyter-server<3,>=2.4.0->jupyterlab->cryodrgn)\n",
            "  Downloading jupyter_events-0.9.0-py3-none-any.whl (18 kB)\n",
            "Collecting jupyter-server-terminals (from jupyter-server<3,>=2.4.0->jupyterlab->cryodrgn)\n",
            "  Downloading jupyter_server_terminals-0.5.2-py3-none-any.whl (13 kB)\n",
            "Requirement already satisfied: nbconvert>=6.4.4 in /usr/local/lib/python3.10/dist-packages (from jupyter-server<3,>=2.4.0->jupyterlab->cryodrgn) (6.5.4)\n",
            "Requirement already satisfied: nbformat>=5.3.0 in /usr/local/lib/python3.10/dist-packages (from jupyter-server<3,>=2.4.0->jupyterlab->cryodrgn) (5.9.2)\n",
            "Collecting overrides (from jupyter-server<3,>=2.4.0->jupyterlab->cryodrgn)\n",
            "  Downloading overrides-7.7.0-py3-none-any.whl (17 kB)\n",
            "Requirement already satisfied: prometheus-client in /usr/local/lib/python3.10/dist-packages (from jupyter-server<3,>=2.4.0->jupyterlab->cryodrgn) (0.20.0)\n",
            "Collecting pyzmq>=24 (from jupyter-server<3,>=2.4.0->jupyterlab->cryodrgn)\n",
            "  Downloading pyzmq-25.1.2-cp310-cp310-manylinux_2_28_x86_64.whl (1.1 MB)\n",
            "\u001b[2K     \u001b[90m━━━━━━━━━━━━━━━━━━━━━━━━━━━━━━━━━━━━━━━━\u001b[0m \u001b[32m1.1/1.1 MB\u001b[0m \u001b[31m75.9 MB/s\u001b[0m eta \u001b[36m0:00:00\u001b[0m\n",
            "\u001b[?25hRequirement already satisfied: send2trash>=1.8.2 in /usr/local/lib/python3.10/dist-packages (from jupyter-server<3,>=2.4.0->jupyterlab->cryodrgn) (1.8.2)\n",
            "Requirement already satisfied: terminado>=0.8.3 in /usr/local/lib/python3.10/dist-packages (from jupyter-server<3,>=2.4.0->jupyterlab->cryodrgn) (0.18.0)\n",
            "Requirement already satisfied: websocket-client in /usr/local/lib/python3.10/dist-packages (from jupyter-server<3,>=2.4.0->jupyterlab->cryodrgn) (1.7.0)\n",
            "Requirement already satisfied: platformdirs>=2.5 in /usr/local/lib/python3.10/dist-packages (from jupyter-core->jupyterlab->cryodrgn) (4.2.0)\n",
            "Requirement already satisfied: babel>=2.10 in /usr/local/lib/python3.10/dist-packages (from jupyterlab-server<3,>=2.19.0->jupyterlab->cryodrgn) (2.14.0)\n",
            "Collecting json5>=0.9.0 (from jupyterlab-server<3,>=2.19.0->jupyterlab->cryodrgn)\n",
            "  Downloading json5-0.9.22-py3-none-any.whl (29 kB)\n",
            "Requirement already satisfied: jsonschema>=4.18.0 in /usr/local/lib/python3.10/dist-packages (from jupyterlab-server<3,>=2.19.0->jupyterlab->cryodrgn) (4.19.2)\n",
            "Requirement already satisfied: requests>=2.31 in /usr/local/lib/python3.10/dist-packages (from jupyterlab-server<3,>=2.19.0->jupyterlab->cryodrgn) (2.31.0)\n",
            "Requirement already satisfied: llvmlite<0.42,>=0.41.0dev0 in /usr/local/lib/python3.10/dist-packages (from numba>=0.51.2->umap-learn->cryodrgn) (0.41.1)\n",
            "Requirement already satisfied: tenacity>=6.2.0 in /usr/local/lib/python3.10/dist-packages (from plotly>=4.1.1->cufflinks->cryodrgn) (8.2.3)\n",
            "Requirement already satisfied: notebook>=4.4.1 in /usr/local/lib/python3.10/dist-packages (from widgetsnbextension~=3.6.0->ipywidgets<8->cryodrgn) (6.5.5)\n",
            "Requirement already satisfied: pyerfa>=2.0 in /usr/local/lib/python3.10/dist-packages (from astropy->healpy->cryodrgn) (2.0.1.1)\n",
            "Requirement already satisfied: mpmath>=0.19 in /usr/local/lib/python3.10/dist-packages (from sympy->torch>=1.0.0->cryodrgn) (1.3.0)\n",
            "Requirement already satisfied: exceptiongroup in /usr/local/lib/python3.10/dist-packages (from anyio->httpx>=0.25.0->jupyterlab->cryodrgn) (1.2.0)\n",
            "Requirement already satisfied: parso<0.9.0,>=0.8.3 in /usr/local/lib/python3.10/dist-packages (from jedi>=0.16->ipython>=4.0.0->ipywidgets<8->cryodrgn) (0.8.3)\n",
            "Requirement already satisfied: attrs>=22.2.0 in /usr/local/lib/python3.10/dist-packages (from jsonschema>=4.18.0->jupyterlab-server<3,>=2.19.0->jupyterlab->cryodrgn) (23.2.0)\n",
            "Requirement already satisfied: jsonschema-specifications>=2023.03.6 in /usr/local/lib/python3.10/dist-packages (from jsonschema>=4.18.0->jupyterlab-server<3,>=2.19.0->jupyterlab->cryodrgn) (2023.12.1)\n",
            "Requirement already satisfied: referencing>=0.28.4 in /usr/local/lib/python3.10/dist-packages (from jsonschema>=4.18.0->jupyterlab-server<3,>=2.19.0->jupyterlab->cryodrgn) (0.33.0)\n",
            "Requirement already satisfied: rpds-py>=0.7.1 in /usr/local/lib/python3.10/dist-packages (from jsonschema>=4.18.0->jupyterlab-server<3,>=2.19.0->jupyterlab->cryodrgn) (0.18.0)\n",
            "Collecting python-json-logger>=2.0.4 (from jupyter-events>=0.9.0->jupyter-server<3,>=2.4.0->jupyterlab->cryodrgn)\n",
            "  Downloading python_json_logger-2.0.7-py3-none-any.whl (8.1 kB)\n",
            "Collecting rfc3339-validator (from jupyter-events>=0.9.0->jupyter-server<3,>=2.4.0->jupyterlab->cryodrgn)\n",
            "  Downloading rfc3339_validator-0.1.4-py2.py3-none-any.whl (3.5 kB)\n",
            "Collecting rfc3986-validator>=0.1.1 (from jupyter-events>=0.9.0->jupyter-server<3,>=2.4.0->jupyterlab->cryodrgn)\n",
            "  Downloading rfc3986_validator-0.1.1-py2.py3-none-any.whl (4.2 kB)\n",
            "Requirement already satisfied: lxml in /usr/local/lib/python3.10/dist-packages (from nbconvert>=6.4.4->jupyter-server<3,>=2.4.0->jupyterlab->cryodrgn) (4.9.4)\n",
            "Requirement already satisfied: beautifulsoup4 in /usr/local/lib/python3.10/dist-packages (from nbconvert>=6.4.4->jupyter-server<3,>=2.4.0->jupyterlab->cryodrgn) (4.12.3)\n",
            "Requirement already satisfied: bleach in /usr/local/lib/python3.10/dist-packages (from nbconvert>=6.4.4->jupyter-server<3,>=2.4.0->jupyterlab->cryodrgn) (6.1.0)\n",
            "Requirement already satisfied: defusedxml in /usr/local/lib/python3.10/dist-packages (from nbconvert>=6.4.4->jupyter-server<3,>=2.4.0->jupyterlab->cryodrgn) (0.7.1)\n",
            "Requirement already satisfied: entrypoints>=0.2.2 in /usr/local/lib/python3.10/dist-packages (from nbconvert>=6.4.4->jupyter-server<3,>=2.4.0->jupyterlab->cryodrgn) (0.4)\n",
            "Requirement already satisfied: jupyterlab-pygments in /usr/local/lib/python3.10/dist-packages (from nbconvert>=6.4.4->jupyter-server<3,>=2.4.0->jupyterlab->cryodrgn) (0.3.0)\n",
            "Requirement already satisfied: mistune<2,>=0.8.1 in /usr/local/lib/python3.10/dist-packages (from nbconvert>=6.4.4->jupyter-server<3,>=2.4.0->jupyterlab->cryodrgn) (0.8.4)\n",
            "Requirement already satisfied: nbclient>=0.5.0 in /usr/local/lib/python3.10/dist-packages (from nbconvert>=6.4.4->jupyter-server<3,>=2.4.0->jupyterlab->cryodrgn) (0.9.0)\n",
            "Requirement already satisfied: pandocfilters>=1.4.1 in /usr/local/lib/python3.10/dist-packages (from nbconvert>=6.4.4->jupyter-server<3,>=2.4.0->jupyterlab->cryodrgn) (1.5.1)\n",
            "Requirement already satisfied: tinycss2 in /usr/local/lib/python3.10/dist-packages (from nbconvert>=6.4.4->jupyter-server<3,>=2.4.0->jupyterlab->cryodrgn) (1.2.1)\n",
            "Requirement already satisfied: fastjsonschema in /usr/local/lib/python3.10/dist-packages (from nbformat>=5.3.0->jupyter-server<3,>=2.4.0->jupyterlab->cryodrgn) (2.19.1)\n",
            "Collecting pyzmq>=24 (from jupyter-server<3,>=2.4.0->jupyterlab->cryodrgn)\n",
            "  Downloading pyzmq-24.0.1-cp310-cp310-manylinux_2_17_x86_64.manylinux2014_x86_64.whl (1.1 MB)\n",
            "\u001b[2K     \u001b[90m━━━━━━━━━━━━━━━━━━━━━━━━━━━━━━━━━━━━━━━━\u001b[0m \u001b[32m1.1/1.1 MB\u001b[0m \u001b[31m77.1 MB/s\u001b[0m eta \u001b[36m0:00:00\u001b[0m\n",
            "\u001b[?25hCollecting jupyter-client (from ipykernel>=4.5.1->ipywidgets<8->cryodrgn)\n",
            "  Downloading jupyter_client-7.4.9-py3-none-any.whl (133 kB)\n",
            "\u001b[2K     \u001b[90m━━━━━━━━━━━━━━━━━━━━━━━━━━━━━━━━━━━━━━━━\u001b[0m \u001b[32m133.5/133.5 kB\u001b[0m \u001b[31m20.1 MB/s\u001b[0m eta \u001b[36m0:00:00\u001b[0m\n",
            "\u001b[?25hRequirement already satisfied: nest-asyncio>=1.5 in /usr/local/lib/python3.10/dist-packages (from notebook>=4.4.1->widgetsnbextension~=3.6.0->ipywidgets<8->cryodrgn) (1.6.0)\n",
            "Requirement already satisfied: nbclassic>=0.4.7 in /usr/local/lib/python3.10/dist-packages (from notebook>=4.4.1->widgetsnbextension~=3.6.0->ipywidgets<8->cryodrgn) (1.0.0)\n",
            "Requirement already satisfied: ptyprocess>=0.5 in /usr/local/lib/python3.10/dist-packages (from pexpect>4.3->ipython>=4.0.0->ipywidgets<8->cryodrgn) (0.7.0)\n",
            "Requirement already satisfied: wcwidth in /usr/local/lib/python3.10/dist-packages (from prompt-toolkit!=3.0.0,!=3.0.1,<3.1.0,>=2.0.0->ipython>=4.0.0->ipywidgets<8->cryodrgn) (0.2.13)\n",
            "Requirement already satisfied: charset-normalizer<4,>=2 in /usr/local/lib/python3.10/dist-packages (from requests>=2.31->jupyterlab-server<3,>=2.19.0->jupyterlab->cryodrgn) (3.3.2)\n",
            "Requirement already satisfied: urllib3<3,>=1.21.1 in /usr/local/lib/python3.10/dist-packages (from requests>=2.31->jupyterlab-server<3,>=2.19.0->jupyterlab->cryodrgn) (2.0.7)\n",
            "Requirement already satisfied: argon2-cffi-bindings in /usr/local/lib/python3.10/dist-packages (from argon2-cffi->jupyter-server<3,>=2.4.0->jupyterlab->cryodrgn) (21.2.0)\n",
            "Collecting fqdn (from jsonschema>=4.18.0->jupyterlab-server<3,>=2.19.0->jupyterlab->cryodrgn)\n",
            "  Downloading fqdn-1.5.1-py3-none-any.whl (9.1 kB)\n",
            "Collecting isoduration (from jsonschema>=4.18.0->jupyterlab-server<3,>=2.19.0->jupyterlab->cryodrgn)\n",
            "  Downloading isoduration-20.11.0-py3-none-any.whl (11 kB)\n",
            "Collecting jsonpointer>1.13 (from jsonschema>=4.18.0->jupyterlab-server<3,>=2.19.0->jupyterlab->cryodrgn)\n",
            "  Downloading jsonpointer-2.4-py2.py3-none-any.whl (7.8 kB)\n",
            "Collecting uri-template (from jsonschema>=4.18.0->jupyterlab-server<3,>=2.19.0->jupyterlab->cryodrgn)\n",
            "  Downloading uri_template-1.3.0-py3-none-any.whl (11 kB)\n",
            "Requirement already satisfied: webcolors>=1.11 in /usr/local/lib/python3.10/dist-packages (from jsonschema>=4.18.0->jupyterlab-server<3,>=2.19.0->jupyterlab->cryodrgn) (1.13)\n",
            "Requirement already satisfied: cffi>=1.0.1 in /usr/local/lib/python3.10/dist-packages (from argon2-cffi-bindings->argon2-cffi->jupyter-server<3,>=2.4.0->jupyterlab->cryodrgn) (1.16.0)\n",
            "Requirement already satisfied: soupsieve>1.2 in /usr/local/lib/python3.10/dist-packages (from beautifulsoup4->nbconvert>=6.4.4->jupyter-server<3,>=2.4.0->jupyterlab->cryodrgn) (2.5)\n",
            "Requirement already satisfied: webencodings in /usr/local/lib/python3.10/dist-packages (from bleach->nbconvert>=6.4.4->jupyter-server<3,>=2.4.0->jupyterlab->cryodrgn) (0.5.1)\n",
            "Requirement already satisfied: pycparser in /usr/local/lib/python3.10/dist-packages (from cffi>=1.0.1->argon2-cffi-bindings->argon2-cffi->jupyter-server<3,>=2.4.0->jupyterlab->cryodrgn) (2.21)\n",
            "Collecting arrow>=0.15.0 (from isoduration->jsonschema>=4.18.0->jupyterlab-server<3,>=2.19.0->jupyterlab->cryodrgn)\n",
            "  Downloading arrow-1.3.0-py3-none-any.whl (66 kB)\n",
            "\u001b[2K     \u001b[90m━━━━━━━━━━━━━━━━━━━━━━━━━━━━━━━━━━━━━━━━\u001b[0m \u001b[32m66.4/66.4 kB\u001b[0m \u001b[31m9.1 MB/s\u001b[0m eta \u001b[36m0:00:00\u001b[0m\n",
            "\u001b[?25hCollecting types-python-dateutil>=2.8.10 (from arrow>=0.15.0->isoduration->jsonschema>=4.18.0->jupyterlab-server<3,>=2.19.0->jupyterlab->cryodrgn)\n",
            "  Downloading types_python_dateutil-2.8.19.20240106-py3-none-any.whl (9.7 kB)\n",
            "Building wheels for collected packages: umap-learn\n",
            "  Building wheel for umap-learn (setup.py) ... \u001b[?25l\u001b[?25hdone\n",
            "  Created wheel for umap-learn: filename=umap_learn-0.5.5-py3-none-any.whl size=86832 sha256=90fc3510ea16f8badf80459ad49d2e4129b547297b42518d52f31322ee6c3268\n",
            "  Stored in directory: /root/.cache/pip/wheels/3a/70/07/428d2b58660a1a3b431db59b806a10da736612ebbc66c1bcc5\n",
            "Successfully built umap-learn\n",
            "Installing collected packages: uri-template, types-python-dateutil, rfc3986-validator, rfc3339-validator, pyzmq, python-json-logger, overrides, jsonpointer, json5, jedi, h11, fqdn, async-lru, jupyter-server-terminals, jupyter-client, httpcore, arrow, seaborn, pynndescent, isoduration, httpx, healpy, umap-learn, jupyter-events, jupyter-server, jupyterlab-server, jupyter-lsp, jupyterlab, cryodrgn\n",
            "  Attempting uninstall: pyzmq\n",
            "    Found existing installation: pyzmq 23.2.1\n",
            "    Uninstalling pyzmq-23.2.1:\n",
            "      Successfully uninstalled pyzmq-23.2.1\n",
            "  Attempting uninstall: jupyter-client\n",
            "    Found existing installation: jupyter-client 6.1.12\n",
            "    Uninstalling jupyter-client-6.1.12:\n",
            "      Successfully uninstalled jupyter-client-6.1.12\n",
            "  Attempting uninstall: seaborn\n",
            "    Found existing installation: seaborn 0.13.1\n",
            "    Uninstalling seaborn-0.13.1:\n",
            "      Successfully uninstalled seaborn-0.13.1\n",
            "  Attempting uninstall: jupyter-server\n",
            "    Found existing installation: jupyter-server 1.24.0\n",
            "    Uninstalling jupyter-server-1.24.0:\n",
            "      Successfully uninstalled jupyter-server-1.24.0\n",
            "Successfully installed arrow-1.3.0 async-lru-2.0.4 cryodrgn-2.3.0 fqdn-1.5.1 h11-0.14.0 healpy-1.16.6 httpcore-1.0.4 httpx-0.27.0 isoduration-20.11.0 jedi-0.19.1 json5-0.9.22 jsonpointer-2.4 jupyter-client-7.4.9 jupyter-events-0.9.0 jupyter-lsp-2.2.4 jupyter-server-2.13.0 jupyter-server-terminals-0.5.2 jupyterlab-4.1.4 jupyterlab-server-2.25.3 overrides-7.7.0 pynndescent-0.5.11 python-json-logger-2.0.7 pyzmq-24.0.1 rfc3339-validator-0.1.4 rfc3986-validator-0.1.1 seaborn-0.11.2 types-python-dateutil-2.8.19.20240106 umap-learn-0.5.5 uri-template-1.3.0\n"
          ]
        },
        {
          "data": {
            "application/vnd.colab-display-data+json": {
              "id": "9023132f7f5946f682a476f24d3f110a",
              "pip_warning": {
                "packages": [
                  "zmq"
                ]
              }
            }
          },
          "metadata": {},
          "output_type": "display_data"
        }
      ],
      "source": [
        "pip install cryodrgn"
      ]
    },
    {
      "cell_type": "code",
      "execution_count": 1,
      "metadata": {
        "colab": {
          "base_uri": "https://localhost:8080/"
        },
        "id": "XBBcZMHhPzCi",
        "outputId": "c1276550-a521-4fa3-843b-30826f3146af"
      },
      "outputs": [
        {
          "name": "stdout",
          "output_type": "stream",
          "text": [
            "Mounted at /content/drive\n"
          ]
        }
      ],
      "source": [
        "from google.colab import drive\n",
        "drive.mount('/content/drive')"
      ]
    },
    {
      "cell_type": "code",
      "execution_count": 2,
      "metadata": {
        "id": "CyOL2C00QF77"
      },
      "outputs": [],
      "source": [
        "!cp /content/drive/MyDrive/10076_pre/L17Combine_weight_local.mrcs .\n",
        "!cp /content/drive/MyDrive/10076_pre/ctf.pkl .\n",
        "!cp /content/drive/MyDrive/10076_pre/poses.pkl .\n",
        "!cp /content/drive/MyDrive/10076_pre/ind_keep.96478_particles.pkl ."
      ]
    },
    {
      "cell_type": "code",
      "execution_count": 5,
      "metadata": {
        "colab": {
          "base_uri": "https://localhost:8080/"
        },
        "id": "2DAk_MEHRp70",
        "outputId": "bdf3b7af-3b5c-4958-867e-9c9d968187e7"
      },
      "outputs": [
        {
          "name": "stdout",
          "output_type": "stream",
          "text": [
            "(INFO) (utils.py) (10-Mar-24 03:08:19) NumExpr defaulting to 8 threads.\n",
            "(INFO) (downsample.py) (10-Mar-24 03:08:23) Processing chunk 0\n",
            "(INFO) (downsample.py) (10-Mar-24 03:08:23) Processing batch 0\n",
            "(INFO) (downsample.py) (10-Mar-24 03:09:15) Processing batch 1\n",
            "(INFO) (downsample.py) (10-Mar-24 03:10:08) Processing batch 2\n",
            "(INFO) (downsample.py) (10-Mar-24 03:11:01) Processing batch 3\n",
            "(INFO) (downsample.py) (10-Mar-24 03:11:53) Processing batch 4\n",
            "(INFO) (downsample.py) (10-Mar-24 03:12:44) Processing batch 5\n",
            "(INFO) (downsample.py) (10-Mar-24 03:13:35) Processing batch 6\n",
            "(INFO) (downsample.py) (10-Mar-24 03:14:26) Processing batch 7\n",
            "(INFO) (downsample.py) (10-Mar-24 03:15:17) Processing batch 8\n",
            "(INFO) (downsample.py) (10-Mar-24 03:16:08) Processing batch 9\n",
            "(INFO) (downsample.py) (10-Mar-24 03:16:59) (50000, 256, 256)\n",
            "(INFO) (downsample.py) (10-Mar-24 03:16:59) Saving /content/particles.256.0.mrcs\n",
            "(INFO) (downsample.py) (10-Mar-24 03:18:11) Processing chunk 1\n",
            "(INFO) (downsample.py) (10-Mar-24 03:18:11) Processing batch 0\n",
            "(INFO) (downsample.py) (10-Mar-24 03:18:59) Processing batch 1\n",
            "(INFO) (downsample.py) (10-Mar-24 03:19:47) Processing batch 2\n",
            "(INFO) (downsample.py) (10-Mar-24 03:20:36) Processing batch 3\n",
            "(INFO) (downsample.py) (10-Mar-24 03:21:25) Processing batch 4\n",
            "(INFO) (downsample.py) (10-Mar-24 03:22:16) Processing batch 5\n",
            "(INFO) (downsample.py) (10-Mar-24 03:23:07) Processing batch 6\n",
            "(INFO) (downsample.py) (10-Mar-24 03:23:59) Processing batch 7\n",
            "(INFO) (downsample.py) (10-Mar-24 03:24:51) Processing batch 8\n",
            "(INFO) (downsample.py) (10-Mar-24 03:25:44) Processing batch 9\n",
            "(INFO) (downsample.py) (10-Mar-24 03:26:36) (50000, 256, 256)\n",
            "(INFO) (downsample.py) (10-Mar-24 03:26:36) Saving /content/particles.256.1.mrcs\n",
            "(INFO) (downsample.py) (10-Mar-24 03:28:03) Processing chunk 2\n",
            "(INFO) (downsample.py) (10-Mar-24 03:28:03) Processing batch 0\n",
            "(INFO) (downsample.py) (10-Mar-24 03:28:50) Processing batch 1\n",
            "(INFO) (downsample.py) (10-Mar-24 03:29:40) Processing batch 2\n",
            "(INFO) (downsample.py) (10-Mar-24 03:30:31) Processing batch 3\n",
            "(INFO) (downsample.py) (10-Mar-24 03:31:25) Processing batch 4\n",
            "(INFO) (downsample.py) (10-Mar-24 03:32:19) Processing batch 5\n",
            "(INFO) (downsample.py) (10-Mar-24 03:33:13) Processing batch 6\n",
            "(INFO) (downsample.py) (10-Mar-24 03:33:31) (31899, 256, 256)\n",
            "(INFO) (downsample.py) (10-Mar-24 03:33:31) Saving /content/particles.256.2.mrcs\n",
            "(INFO) (downsample.py) (10-Mar-24 03:34:11) Saving /content/particles.256.txt\n"
          ]
        }
      ],
      "source": [
        "!cryodrgn downsample L17Combine_weight_local.mrcs -D 256 -o particles.256.mrcs --chunk 50000"
      ]
    },
    {
      "cell_type": "code",
      "execution_count": 21,
      "metadata": {
        "colab": {
          "base_uri": "https://localhost:8080/"
        },
        "id": "FUf-3VmvjuQC",
        "outputId": "61367920-03eb-4fa4-f32c-5ad91323f213"
      },
      "outputs": [
        {
          "name": "stdout",
          "output_type": "stream",
          "text": [
            "(INFO) (utils.py) (10-Mar-24 04:12:08) NumExpr defaulting to 8 threads.\n",
            "(INFO) (write_star.py) (10-Mar-24 04:12:10) 131899 particles in particles.256.txt\n",
            "(INFO) (write_star.py) (10-Mar-24 04:12:10) Filtering to 96478 particles\n"
          ]
        }
      ],
      "source": [
        "!cryodrgn_utils write_star particles.256.txt \\\n",
        "    --ctf ctf.pkl \\\n",
        "    --poses poses.pkl \\\n",
        "    --ind ind_keep.96478_particles.pkl \\\n",
        "    --full-path \\\n",
        "    -o selected_10076_256.star"
      ]
    },
    {
      "cell_type": "markdown",
      "metadata": {
        "id": "uutDCoHWpOeW"
      },
      "source": [
        "### 3DVA"
      ]
    },
    {
      "cell_type": "markdown",
      "metadata": {
        "id": "X00lH7y2pSuq"
      },
      "source": [
        "Here, the following steps are conducted:\n",
        "\n",
        "1. Import particles (ignore half-set splits and disable output validation)\n",
        "2. Homogeneous reconstruct only (Force redo GS split)\n",
        "3. 3DVA (Filter resolution 5A for 256 pixels)"
      ]
    },
    {
      "cell_type": "code",
      "execution_count": 11,
      "metadata": {
        "colab": {
          "base_uri": "https://localhost:8080/"
        },
        "id": "EtyWMp8Lf8q3",
        "outputId": "b229d584-fbf4-48e8-b771-fcccabf1e42b"
      },
      "outputs": [
        {
          "name": "stdout",
          "output_type": "stream",
          "text": [
            "/content/cryosparc\n",
            "  % Total    % Received % Xferd  Average Speed   Time    Time     Time  Current\n",
            "                                 Dload  Upload   Total   Spent    Left  Speed\n",
            "  0     0    0     0    0     0      0      0 --:--:--  0:00:02 --:--:--     0\n",
            "100  604M  100  604M    0     0  27.6M      0  0:00:21  0:00:21 --:--:-- 33.8M\n",
            "  % Total    % Received % Xferd  Average Speed   Time    Time     Time  Current\n",
            "                                 Dload  Upload   Total   Spent    Left  Speed\n",
            "  0     0    0     0    0     0      0      0 --:--:-- --:--:-- --:--:--     0\n",
            "100 3897M  100 3897M    0     0  32.4M      0  0:02:00  0:02:00 --:--:-- 33.9M\n"
          ]
        }
      ],
      "source": [
        "  import os\n",
        "  import sys\n",
        "\n",
        "  try:\n",
        "    LICENSE_ID = 'de83cc14-927c-11ed-8bff-53442f46f4ed'\n",
        "  except:\n",
        "    pass\n",
        "\n",
        "  os.environ['LICENSE_ID'] = LICENSE_ID\n",
        "\n",
        "  %mkdir cryosparc\n",
        "  %cd cryosparc\n",
        "  if not os.path.isdir(\"cryosparc_master\"):\n",
        "    if not os.path.exists(\"cryosparc_master.tar.gz\"):\n",
        "      !curl -L https://get.cryosparc.com/download/master-latest/$LICENSE_ID -o cryosparc_master.tar.gz\n",
        "    !tar -xf cryosparc_master.tar.gz cryosparc_master\n",
        "    !rm /content/cryosparc/cryosparc_master.tar.gz\n",
        "  if not os.path.isdir(\"cryosparc_worker\"):\n",
        "    if not os.path.exists(\"cryosparc_worker.tar.gz\"):\n",
        "      !curl -L https://get.cryosparc.com/download/worker-latest/$LICENSE_ID -o cryosparc_worker.tar.gz\n",
        "    !tar -xf cryosparc_worker.tar.gz cryosparc_worker\n",
        "    !rm /content/cryosparc/cryosparc_worker.tar.gz"
      ]
    },
    {
      "cell_type": "code",
      "execution_count": 13,
      "metadata": {
        "colab": {
          "base_uri": "https://localhost:8080/"
        },
        "id": "p5YKTLdUod3B",
        "outputId": "2f54ca57-2e9d-41a1-ba81-64c13214af08"
      },
      "outputs": [
        {
          "name": "stdout",
          "output_type": "stream",
          "text": [
            "[Errno 2] No such file or directory: 'cryosparc_master'\n",
            "/content/cryosparc/cryosparc_master\n",
            "Reading package lists... Done\n",
            "Building dependency tree... Done\n",
            "Reading state information... Done\n",
            "iputils-ping is already the newest version (3:20211215-1).\n",
            "0 upgraded, 0 newly installed, 0 to remove and 35 not upgraded.\n",
            "env: CRYOSPARC_FORCE_USER=true\n",
            "env: USER=phonchi\n",
            "\n",
            "************ CRYOSPARC SYSTEM: STANDALONE INSTALLER **************\n",
            "\n",
            "You are the root user. Are you sure you want to install as root?\n",
            "This is really not recommended and may introduce security holes.\n",
            "Proceed at your own risk. Are you sure?\n",
            "1) Yes\n",
            "2) No\n",
            "#? 11\n",
            "#? 1\n",
            "Continuing.\n",
            " Installation Settings:\n",
            "   License ID              : de83cc14-927c-11ed-8bff-53442f46f4ed\n",
            "   Root Directory          : /content/cryosparc/cryosparc_master\n",
            "   Master Hostname         : b01d7fbbaaa2\n",
            "   Database Directory      : /content/cryosparc/cryosparc_database\n",
            "   Base HTTP Port Number   : 61000\n",
            "   Developer Install       : false\n",
            "   Operating System        : Linux\n",
            "   Insecure Install        : false\n",
            "   Standalone Install      : true\n",
            "   Worker Root Directory   : /content/cryosparc/cryosparc_worker\n",
            "   Initial User Email      : steve2003121@gmail.com\n",
            "   Initial User Name       : phonchi\n",
            "   Initial First Name      : Po Cheng\n",
            "   Initial Last Name       : Chou\n",
            "   SSD                     : true\n",
            "   SSD Path                : /content/cryosparc/cryosparc_cache\n",
            "   Version                 : v4.4.1\n",
            "\n",
            "******************************************************************\n",
            "\n",
            "The CryoSPARC System master installation will host a database, \n",
            "web application, and command layer for CryoSPARC, but will not \n",
            "perform processing jobs. \n",
            "\n",
            "Please read and confirm the above settings. The CryoSPARC database\n",
            "will be stored at the database directory which is relative to the\n",
            "root directory, unless provided as an absolute path.\n",
            "You can change the database directory now by passing the --dbapth\n",
            "parameter to this installer, or later via the command line.\n",
            "\n",
            "Are the above settings correct?\n",
            "1) Yes\n",
            "2) No\n",
            "#? 1\n",
            "Continuing.\n",
            "\n",
            "******************************************************************\n",
            "\n",
            " Setting up hard-coded config.sh environment variables\n",
            "\n",
            "******************************************************************\n",
            "\n",
            " Installing all dependencies.\n",
            "\n",
            "  Checking dependencies... \n",
            "  Dependencies for python have not changed.\n",
            "  Currently checking hash for mongodb\n",
            "  Dependencies for mongodb have not changed.\n",
            "  Completed dependency check. \n",
            "\n",
            "************ CRYOSPARC MASTER INSTALLATION COMPLETE **************\n",
            "\n",
            " CryoSPARC System master has now been installed. \n",
            " Add bin directory to your ~/.bashrc ?\n",
            "1) Yes\n",
            "2) No\n",
            "#? 1\n",
            " cryosparc bin directory already in PATH, skipped.\n",
            "\n",
            "************ CRYOSPARC SYSTEM: STANDALONE INSTALLER **************\n",
            "\n",
            "  The installer will now download, install and connect the worker\n",
            "  package on this machine. The worker package will allow CryoSPARC\n",
            "  to run compute jobs.\n",
            "\n",
            "******************************************************************\n",
            "\n",
            " Starting CryoSPARC...\n",
            "\n",
            "Starting cryoSPARC System master process..\n",
            "CryoSPARC is already running.\n",
            "If you would like to restart, use cryosparcm restart\n",
            "\n",
            "******************************************************************\n",
            "\n",
            " Creating the initial CryoSPARC user...\n",
            "\n",
            "Creating user phonchi with email: steve2003121@gmail.com and name: Po Cheng Chou\n",
            "Failed to create user: user with same email already exists.\n",
            "\n",
            "******************************************************************\n",
            "\n",
            " Installing the CryoSPARC worker package...\n",
            "\n",
            "******* CRYOSPARC SYSTEM: WORKER INSTALLER ***********************\n",
            "\n",
            " Installation Settings:\n",
            "   License ID              : de83cc14-927c-11ed-8bff-53442f46f4ed\n",
            "   Root Directory          : /content/cryosparc/cryosparc_worker\n",
            "   Standalone Installation : true\n",
            "   Version                 : v4.4.1\n",
            "\n",
            "******************************************************************\n",
            "\n",
            " NVIDIA driver check..\n",
            " Found nvidia-smi at /opt/bin/nvidia-smi\n",
            "\n",
            "\n",
            "******************************************************************\n",
            "\n",
            " Setting up hard-coded config.sh environment variables\n",
            "\n",
            "******************************************************************\n",
            "\n",
            " Installing all dependencies.\n",
            "\n",
            "Checking dependencies... \n",
            "Dependencies for python have changed - reinstalling...\n",
            "  ------------------------------------------------------------------------\n",
            "  Installing anaconda python...\n",
            "  ------------------------------------------------------------------------\n",
            "PREFIX=/content/cryosparc/cryosparc_worker/deps/anaconda\n",
            "Unpacking payload ...\n",
            "Collecting package metadata (current_repodata.json): - \b\bdone\n",
            "Solving environment: | \b\b/ \b\bdone\n",
            "\n",
            "## Package Plan ##\n",
            "\n",
            "  environment location: /content/cryosparc/cryosparc_worker/deps/anaconda\n",
            "\n",
            "  added / updated specs:\n",
            "    - _libgcc_mutex==0.1=main\n",
            "    - _openmp_mutex==4.5=1_gnu\n",
            "    - brotlipy==0.7.0=py38h27cfd23_1003\n",
            "    - ca-certificates==2022.3.29=h06a4308_1\n",
            "    - certifi==2021.10.8=py38h06a4308_2\n",
            "    - cffi==1.15.0=py38hd667e15_1\n",
            "    - charset-normalizer==2.0.4=pyhd3eb1b0_0\n",
            "    - colorama==0.4.4=pyhd3eb1b0_0\n",
            "    - conda-content-trust==0.1.1=pyhd3eb1b0_0\n",
            "    - conda-package-handling==1.8.1=py38h7f8727e_0\n",
            "    - conda==4.12.0=py38h06a4308_0\n",
            "    - cryptography==36.0.0=py38h9ce1e76_0\n",
            "    - idna==3.3=pyhd3eb1b0_0\n",
            "    - ld_impl_linux-64==2.35.1=h7274673_9\n",
            "    - libffi==3.3=he6710b0_2\n",
            "    - libgcc-ng==9.3.0=h5101ec6_17\n",
            "    - libgomp==9.3.0=h5101ec6_17\n",
            "    - libstdcxx-ng==9.3.0=hd4cf53a_17\n",
            "    - ncurses==6.3=h7f8727e_2\n",
            "    - openssl==1.1.1n=h7f8727e_0\n",
            "    - pip==21.2.4=py38h06a4308_0\n",
            "    - pycosat==0.6.3=py38h7b6447c_1\n",
            "    - pycparser==2.21=pyhd3eb1b0_0\n",
            "    - pyopenssl==22.0.0=pyhd3eb1b0_0\n",
            "    - pysocks==1.7.1=py38h06a4308_0\n",
            "    - python==3.8.13=h12debd9_0\n",
            "    - readline==8.1.2=h7f8727e_1\n",
            "    - requests==2.27.1=pyhd3eb1b0_0\n",
            "    - ruamel_yaml==0.15.100=py38h27cfd23_0\n",
            "    - setuptools==61.2.0=py38h06a4308_0\n",
            "    - six==1.16.0=pyhd3eb1b0_1\n",
            "    - sqlite==3.38.2=hc218d9a_0\n",
            "    - tk==8.6.11=h1ccaba5_0\n",
            "    - tqdm==4.63.0=pyhd3eb1b0_0\n",
            "    - urllib3==1.26.8=pyhd3eb1b0_0\n",
            "    - wheel==0.37.1=pyhd3eb1b0_0\n",
            "    - xz==5.2.5=h7b6447c_0\n",
            "    - yaml==0.2.5=h7b6447c_0\n",
            "    - zlib==1.2.12=h7f8727e_1\n",
            "\n",
            "\n",
            "The following NEW packages will be INSTALLED:\n",
            "\n",
            "  _libgcc_mutex      pkgs/main/linux-64::_libgcc_mutex-0.1-main\n",
            "  _openmp_mutex      pkgs/main/linux-64::_openmp_mutex-4.5-1_gnu\n",
            "  brotlipy           pkgs/main/linux-64::brotlipy-0.7.0-py38h27cfd23_1003\n",
            "  ca-certificates    pkgs/main/linux-64::ca-certificates-2022.3.29-h06a4308_1\n",
            "  certifi            pkgs/main/linux-64::certifi-2021.10.8-py38h06a4308_2\n",
            "  cffi               pkgs/main/linux-64::cffi-1.15.0-py38hd667e15_1\n",
            "  charset-normalizer pkgs/main/noarch::charset-normalizer-2.0.4-pyhd3eb1b0_0\n",
            "  colorama           pkgs/main/noarch::colorama-0.4.4-pyhd3eb1b0_0\n",
            "  conda              pkgs/main/linux-64::conda-4.12.0-py38h06a4308_0\n",
            "  conda-content-tru~ pkgs/main/noarch::conda-content-trust-0.1.1-pyhd3eb1b0_0\n",
            "  conda-package-han~ pkgs/main/linux-64::conda-package-handling-1.8.1-py38h7f8727e_0\n",
            "  cryptography       pkgs/main/linux-64::cryptography-36.0.0-py38h9ce1e76_0\n",
            "  idna               pkgs/main/noarch::idna-3.3-pyhd3eb1b0_0\n",
            "  ld_impl_linux-64   pkgs/main/linux-64::ld_impl_linux-64-2.35.1-h7274673_9\n",
            "  libffi             pkgs/main/linux-64::libffi-3.3-he6710b0_2\n",
            "  libgcc-ng          pkgs/main/linux-64::libgcc-ng-9.3.0-h5101ec6_17\n",
            "  libgomp            pkgs/main/linux-64::libgomp-9.3.0-h5101ec6_17\n",
            "  libstdcxx-ng       pkgs/main/linux-64::libstdcxx-ng-9.3.0-hd4cf53a_17\n",
            "  ncurses            pkgs/main/linux-64::ncurses-6.3-h7f8727e_2\n",
            "  openssl            pkgs/main/linux-64::openssl-1.1.1n-h7f8727e_0\n",
            "  pip                pkgs/main/linux-64::pip-21.2.4-py38h06a4308_0\n",
            "  pycosat            pkgs/main/linux-64::pycosat-0.6.3-py38h7b6447c_1\n",
            "  pycparser          pkgs/main/noarch::pycparser-2.21-pyhd3eb1b0_0\n",
            "  pyopenssl          pkgs/main/noarch::pyopenssl-22.0.0-pyhd3eb1b0_0\n",
            "  pysocks            pkgs/main/linux-64::pysocks-1.7.1-py38h06a4308_0\n",
            "  python             pkgs/main/linux-64::python-3.8.13-h12debd9_0\n",
            "  readline           pkgs/main/linux-64::readline-8.1.2-h7f8727e_1\n",
            "  requests           pkgs/main/noarch::requests-2.27.1-pyhd3eb1b0_0\n",
            "  ruamel_yaml        pkgs/main/linux-64::ruamel_yaml-0.15.100-py38h27cfd23_0\n",
            "  setuptools         pkgs/main/linux-64::setuptools-61.2.0-py38h06a4308_0\n",
            "  six                pkgs/main/noarch::six-1.16.0-pyhd3eb1b0_1\n",
            "  sqlite             pkgs/main/linux-64::sqlite-3.38.2-hc218d9a_0\n",
            "  tk                 pkgs/main/linux-64::tk-8.6.11-h1ccaba5_0\n",
            "  tqdm               pkgs/main/noarch::tqdm-4.63.0-pyhd3eb1b0_0\n",
            "  urllib3            pkgs/main/noarch::urllib3-1.26.8-pyhd3eb1b0_0\n",
            "  wheel              pkgs/main/noarch::wheel-0.37.1-pyhd3eb1b0_0\n",
            "  xz                 pkgs/main/linux-64::xz-5.2.5-h7b6447c_0\n",
            "  yaml               pkgs/main/linux-64::yaml-0.2.5-h7b6447c_0\n",
            "  zlib               pkgs/main/linux-64::zlib-1.2.12-h7f8727e_1\n",
            "\n",
            "\n",
            "Preparing transaction: \\ \b\b| \b\b/ \b\bdone\n",
            "Executing transaction: \\ \b\b| \b\b/ \b\b- \b\b\\ \b\b| \b\b/ \b\b- \b\b\\ \b\b| \b\b/ \b\b- \b\b\\ \b\b| \b\b/ \b\b- \b\bdone\n",
            "installation finished.\n",
            "  ------------------------------------------------------------------------\n",
            "    Done.\n",
            "    anaconda python installation successful.\n",
            "  ------------------------------------------------------------------------\n",
            "  Extracting all conda packages...\n",
            "  ------------------------------------------------------------------------\n",
            ".........................................................................................................................................................................................................................................................................................................................................................................................................................................................................................................................................................................................................................................................................................................................................................................................................................................\n",
            "  ------------------------------------------------------------------------\n",
            "    Done.\n",
            "    conda packages installation successful.\n",
            "  ------------------------------------------------------------------------\n",
            "  Main dependency installation completed. Continuing...\n",
            "  ------------------------------------------------------------------------\n",
            "Completed.\n",
            "Currently checking hash for ctffind\n",
            "Dependencies for ctffind have changed - reinstalling...\n",
            "  ------------------------------------------------------------------------\n",
            "  ctffind 4.1.14 installation successful.\n",
            "  ------------------------------------------------------------------------\n",
            "Completed.\n",
            "Currently checking hash for gctf\n",
            "Dependencies for gctf have changed - reinstalling...\n",
            "  ------------------------------------------------------------------------\n",
            "  Gctf v1.06 installation successful.\n",
            "  ------------------------------------------------------------------------\n",
            "Completed.\n",
            "Completed dependency check. \n",
            "\n",
            "******* CRYOSPARC WORKER INSTALLATION COMPLETE *******************\n",
            "\n",
            " In order to run processing jobs, you will need to connect this\n",
            " worker to a cryoSPARC master.\n",
            "\n",
            "******************************************************************\n",
            "\n",
            "******************************************************************\n",
            "\n",
            " Connecting the CryoSPARC worker to the master...\n",
            "\n",
            " ---------------------------------------------------------------\n",
            "  CRYOSPARC CONNECT --------------------------------------------\n",
            " ---------------------------------------------------------------\n",
            "  Attempting to register worker b01d7fbbaaa2 to command b01d7fbbaaa2:61002\n",
            "  Connecting as unix user phonchi\n",
            "  Will register using ssh string: phonchi@b01d7fbbaaa2\n",
            "  If this is incorrect, you should re-run this command with the flag --sshstr <ssh string> \n",
            " ---------------------------------------------------------------\n",
            "  Connected to master.\n",
            " ---------------------------------------------------------------\n",
            "  Current connected workers:\n",
            " ---------------------------------------------------------------\n",
            "  Worker will be registered with 8 CPUs.\n",
            "  Autodetecting available GPUs...\n",
            "  Detected 1 CUDA devices.\n",
            "\n",
            "   id           pci-bus  name\n",
            "   ---------------------------------------------------------------\n",
            "       0                 0  Tesla V100-SXM2-16GB                                                                \n",
            "   ---------------------------------------------------------------\n",
            "   All devices will be enabled now. \n",
            "   This can be changed later using --update\n",
            " ---------------------------------------------------------------\n",
            "  Worker will be registered with SSD cache location /content/cryosparc/cryosparc_cache \n",
            " ---------------------------------------------------------------\n",
            "  Autodetecting the amount of RAM available...\n",
            "  This machine has 52.22GB RAM .\n",
            " ---------------------------------------------------------------\n",
            " ---------------------------------------------------------------\n",
            "  Registering worker...\n",
            "  Done.\n",
            "\n",
            "  You can now launch jobs on the master node and they will be scheduled\n",
            "  on to this worker node if resource requirements are met.\n",
            " ---------------------------------------------------------------\n",
            "  Final configuration for b01d7fbbaaa2\n",
            "               cache_path :  /content/cryosparc/cryosparc_cache\n",
            "           cache_quota_mb :  None\n",
            "         cache_reserve_mb :  10000\n",
            "                     desc :  None\n",
            "                     gpus :  [{'id': 0, 'mem': 16935682048, 'name': 'Tesla V100-SXM2-16GB'}]\n",
            "                 hostname :  b01d7fbbaaa2\n",
            "                     lane :  default\n",
            "             monitor_port :  None\n",
            "                     name :  b01d7fbbaaa2\n",
            "           resource_fixed :  {'SSD': True}\n",
            "           resource_slots :  {'CPU': [0, 1, 2, 3, 4, 5, 6, 7], 'GPU': [0], 'RAM': [0, 1, 2, 3, 4, 5, 6]}\n",
            "                  ssh_str :  phonchi@b01d7fbbaaa2\n",
            "                    title :  Worker node b01d7fbbaaa2\n",
            "                     type :  node\n",
            "          worker_bin_path :  /content/cryosparc/cryosparc_worker/bin/cryosparcw\n",
            " ---------------------------------------------------------------\n",
            "\n",
            "**************** CRYOSPARC INSTALLATION COMPLETE *****************\n",
            "\n",
            "  Please re-start your terminal shell to make the cryosparcm\n",
            "  command available. \n",
            "\n",
            "******************************************************************\n"
          ]
        }
      ],
      "source": [
        "  %cd cryosparc_master\n",
        "  !apt-get install iputils-ping -y\n",
        "  %mkdir /content/cryosparc/cryosparc_cache\n",
        "  os.environ['LICENSE_ID'] = LICENSE_ID\n",
        "  # %env LICENSE_ID=\n",
        "  %env CRYOSPARC_FORCE_USER=true\n",
        "  %env USER=phonchi\n",
        "  !./install.sh    --standalone \\\n",
        "          --license $LICENSE_ID \\\n",
        "          --worker_path /content/cryosparc/cryosparc_worker \\\n",
        "          --ssdpath /content/cryosparc/cryosparc_cache \\\n",
        "          --initial_email \"steve2003121@gmail.com\" \\\n",
        "          --initial_password \"CryoSPARC00\" \\\n",
        "          --initial_username \"phonchi\" \\\n",
        "          --initial_firstname \"Po Cheng\" \\\n",
        "          --initial_lastname \"Chou\" \\\n",
        "          --port 61000"
      ]
    },
    {
      "cell_type": "code",
      "execution_count": 15,
      "metadata": {
        "colab": {
          "base_uri": "https://localhost:8080/"
        },
        "id": "r-1Clf_jjdRL",
        "outputId": "3fd361b1-1c57-477b-beee-daf860c07396"
      },
      "outputs": [
        {
          "name": "stdout",
          "output_type": "stream",
          "text": [
            "Collecting pyngrok\n",
            "  Downloading pyngrok-7.1.5-py3-none-any.whl (22 kB)\n",
            "Requirement already satisfied: PyYAML>=5.1 in /usr/local/lib/python3.10/dist-packages (from pyngrok) (6.0.1)\n",
            "Installing collected packages: pyngrok\n",
            "Successfully installed pyngrok-7.1.5\n"
          ]
        }
      ],
      "source": [
        "pip install pyngrok"
      ]
    },
    {
      "cell_type": "code",
      "execution_count": 16,
      "metadata": {
        "id": "T5tnrFLyjZzF"
      },
      "outputs": [],
      "source": [
        "from pyngrok import ngrok, conf\n",
        "import getpass"
      ]
    },
    {
      "cell_type": "code",
      "execution_count": 17,
      "metadata": {
        "colab": {
          "base_uri": "https://localhost:8080/"
        },
        "id": "PLiGmYSPjj9L",
        "outputId": "f341ca6d-edfd-4e47-a78f-41594e87ba8d"
      },
      "outputs": [
        {
          "name": "stdout",
          "output_type": "stream",
          "text": [
            "Enter your authtoken, which can be copied from https://dashboard.ngrok.com/auth\n",
            "··········\n"
          ]
        }
      ],
      "source": [
        "print(\"Enter your authtoken, which can be copied from https://dashboard.ngrok.com/auth\")\n",
        "conf.get_default().auth_token = getpass.getpass()"
      ]
    },
    {
      "cell_type": "code",
      "execution_count": 18,
      "metadata": {
        "colab": {
          "base_uri": "https://localhost:8080/"
        },
        "id": "cJ6oIRovjrlP",
        "outputId": "d7dac23e-a42a-4abf-b48c-2c2afd2a986d"
      },
      "outputs": [
        {
          "name": "stdout",
          "output_type": "stream",
          "text": []
        }
      ],
      "source": [
        "# Setup a tunnel to the port 61000\n",
        "public_url = ngrok.connect(61000)"
      ]
    },
    {
      "cell_type": "code",
      "execution_count": 22,
      "metadata": {
        "colab": {
          "base_uri": "https://localhost:8080/"
        },
        "id": "A95MWJoukCW5",
        "outputId": "3cff2275-f5d4-4cd9-cb73-6c7c210064be"
      },
      "outputs": [
        {
          "data": {
            "text/plain": [
              "<NgrokTunnel: \"https://5355-34-90-102-251.ngrok-free.app\" -> \"http://localhost:61000\">"
            ]
          },
          "execution_count": 22,
          "metadata": {},
          "output_type": "execute_result"
        }
      ],
      "source": [
        "public_url"
      ]
    },
    {
      "cell_type": "code",
      "execution_count": 23,
      "metadata": {
        "id": "46GH27sBFcVz"
      },
      "outputs": [],
      "source": [
        "!cp /content/cryosparc/cryosparc_cache/CS-10076/J4/J4_particles.cs /content/drive/MyDrive/10076_pre/"
      ]
    }
  ],
  "metadata": {
    "accelerator": "GPU",
    "colab": {
      "gpuType": "V100",
      "machine_shape": "hm",
      "provenance": []
    },
    "kernelspec": {
      "display_name": "Python 3",
      "name": "python3"
    },
    "language_info": {
      "name": "python"
    }
  },
  "nbformat": 4,
  "nbformat_minor": 0
}
